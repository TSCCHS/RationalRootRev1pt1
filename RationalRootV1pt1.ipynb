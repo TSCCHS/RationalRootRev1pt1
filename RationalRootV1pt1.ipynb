{
 "cells": [
  {
   "cell_type": "markdown",
   "metadata": {},
   "source": [
    "### <center> The Rational Root Investigation Notebook </center>\n",
    "\n",
    "<center> Tony Smaldone </center>\n",
    "\n",
    "Welcome to the rational root investigation notebook. This notebook is designed to allow the student to explore the identification of **possible** rational roots of $f(x) = 0$ and which, if any, are actual roots. For the purposes of this notebook, $f(x)$ is limited to a single variable polynomial with **integer** coefficients. That is,\n",
    "\n",
    "$$\n",
    "f(x) = a_{n}x^{n} + a_{n-1}x^{n-1} + a_{n-2}x^{n-2} + \\dots + a_{2}x^2 + a_{1}x + a_{0}\n",
    "$$\n",
    "\n",
    "where $a_{n} \\in \\mathbb{Z}$. \n",
    "\n",
    "For any given $f(x)$, the number of roots that exist will be per the *Fundamental Theorem of Algebra* and as many as possible will be found, inclusive of the identification of repeated roots. The focus of this notebook, however, is on the roots which are rational, but, where possible, the *quadratic formula* will be used to identify non rational (inclusive of complex) roots.\n",
    "\n",
    "The identification of rational roots will be via the implementation of the *Rational Root Theorem* and the determination of which, if any, are roots will be via *simple* function evaluation and via the implementation of the *Factor Theorem*. There are disadvantages to using just simple function evaluation which (hopefully) will be discovered by the student.\n",
    "\n",
    "This notebook is, in some ways, a companion to the recently authored (by yours truly) and somewhat more formal, white paper and *interactive app* on the numerical analysis technique of the *Bisection Method* which guarantees the finding of a **real** (not just rational) root in a given interval $[a,b]$, if one exists. Please see [Bisection Method App and White Paper](https://catholicmathguy.shinyapps.io/bisectionmethod/) for complete details.\n",
    "\n",
    "All software used in this notebook was written in [python](https://www.python.org/) (see *Introduction and Notebook Usage* for more details). This notebook is broken up into the following sections:\n",
    "\n",
    "* **Introduction and Notebook Usage:** This section provides a brief introduction to the software and the usage of this *jupyter* notebook\n",
    "* **Function Definition Section:** This section is where the function of interest is entered (in plain text)\n",
    "* **Function Plot Section:** This section will make a plot of the function of interest\n",
    "* **Function Information Section:** This section will report out on the main characteristics (properties) of the function of interest\n",
    "* **Zero Constant Handling Section:** This section will determine the value of the constant coefficient and if it is zero, make the appropriate software adjustments\n",
    "* **Identify Possible Rational Roots Section:** This section will identify the **possible** rational roots as defined by the *Rational Root Theorem*\n",
    "* **Rational Root Finding Via Function Evaluation Section:** This section will determine which, if any, of the possbile rational roots are indeed roots. The *quadratic formula* will be invoked in certain cases.\n",
    "* **Rational Root Finding Via Synthetic Division Section:** This section will determine which, if any, of the possible rational roots are indeed roots via the implementation of the *factor theorem* and the use of synthetic division. The *quadratic formula* will be invoked in certain cases.\n",
    "* **Summary / Conclusion:** Brief summary comments.\n",
    "* **Theorems:** A list of the root finding theorems relevant to the purpose of this notebook.\n",
    "* **Take The Challenge:** A list of functions used as test functions for the development of the software used herein. These are indicative of those *normally* encountered in academic settings. The reader can challenge him/her self by exploring them first via the good old fashioned paper and pencil (or fountain pen in some cases) method, then exploring them via this notebook.\n",
    "* **Libraries:** The software developed was extensive, especially the parsing routines of the function of interest entered in text form. Given how jupyter notebooks work (per their most intended purposes), libraries were created containing all the developed methods. The names of the libraries and their content os briefly described.\n",
    "* **Future Enhancements:** It is recognized that there might be (actually, there are) areas for improvement, things to be made clearer, desired new functionality, etc. This section identifies some of these self-identified areas of enhancement. Being quite humble, I fully realize that it is certainly a non-exhaustive list. Feel free to add to the list and make me aware.\n",
    "\n",
    "\n",
    "\n"
   ]
  },
  {
   "cell_type": "markdown",
   "metadata": {},
   "source": [
    "#### <center> Introduction and Notebook Usage </center>\n",
    "\n",
    "This notebook is an implementation of a [Juyter Notebook](https://jupyter.org/), albeit in a very minimalistic way. Though having greater use, a jupyter notebook, in a nutshell, is *an interactive computational environment, in which you can combine code execution, rich text, mathematics, plots and rich media*, (ref: [The Jupyter Notebook](https://ipython.org/notebook.html)), and is primarily used in conjunction with software written in [python](https://www.python.org/).\n",
    "\n",
    "Some brief words on the construct and use instructions of a jupyter notebook. A key element of a jupyter notebook is the **cell**. A cell can contain executable code or markdown formatted documentation (there are others but for these are sufficient to mention here). The executable code can be executed all at once or on a cell-by-cell basis. That is, one can run the entire notebook from beginning to end, or just the code within a particular cell. This allows one to change a parameter, for example, within a cell and rerun just that cell. There are other options, like running all cells below (or above) a cell. This imposes a constraint on how the software is developed.\n",
    "\n",
    "As mentioned the sofware used in this notebook was written in [python](https://www.python.org/). However, my software was initially written as a stand-alone application before deciding to put within the context of a jupyter notebook. The software was modified to reflect the spirit of a juypter notebook, but it is not one hundred percent. *(Indeed, should it be desired and/or needed, that is one of the listed enhancements.)* It is, however, sufficient for the purposes herein.\n",
    "\n",
    "Some brief notes about the code:\n",
    "\n",
    "* The visible code contained herein was minimized to afford readibility yet sufficient enough to allow for understanding. \n",
    "* For the most part, no *fancy* code manipulations were used, just written as straight forward as possible. This was, again, to enhance readibility and understanding, especially for those not familiar with python.\n",
    "* Several libraries were written to better organize the presentation in this notebook and for use in other applications\n",
    "    + These libraries are described at the bottom of this notebook"
   ]
  },
  {
   "cell_type": "markdown",
   "metadata": {},
   "source": [
    "#### <center> It is Time To Rock-N-Roll </center>\n",
    "\n",
    "Enough of the preliminaries. **It's time to rock-n-roll!**\n",
    "\n",
    "The definition of the libraries needed by the software (both system and self developed as mentioned above) is the first order of business."
   ]
  },
  {
   "cell_type": "code",
   "execution_count": 19,
   "metadata": {},
   "outputs": [],
   "source": [
    "%matplotlib inline\n",
    "import sys\n",
    "import matplotlib.pyplot as plt\n",
    "import numpy as np\n",
    "from sympy import Symbol, sympify\n",
    "from parseLib             import *\n",
    "from plotLib              import *\n",
    "from polynomialLib        import *\n",
    "from rationalRootLib      import *\n",
    "from functionMathRoutines import *\n",
    "from exploreRationalLib   import *"
   ]
  },
  {
   "cell_type": "markdown",
   "metadata": {},
   "source": [
    "#### <center> Function Definition Section </center>\n",
    "\n",
    "The first thing needed is the function for which the rational roots, if there are any, are sought. Again, will be limiting the functions to single variable polynomials with **integer** coefficients. Though a polynomial is of the form\n",
    "\n",
    "$$\n",
    "f(x) = a_{n}x^{n} + a_{n-1}x^{n-1} + a_{n-2}x^{n-2} + \\dots + a_{2}x^2 + a_{1}x + a_{0}\n",
    "$$\n",
    "\n",
    "it is necessary to enter the function in non symbolic form. In other words, in just plain text. The following characters are important to know and are universally understood:\n",
    "\n",
    "* `*`: multiplication. Example: '2*x' is equivalent to $2x$\n",
    "* `^`: exponentiation. Example: '2*x^3' is equivalent to $2x^{3}$\n",
    "    + `**` is an alternative form for exponentiation. Let's standardize on '^'\n",
    "* `+`: addition. Pretty self explanatory and is mentioned here for completeness\n",
    "* `-`: subtraction. Pretty self explanatory and is mentioned here for completeness\n",
    "\n",
    "It is **extremely** important that normal arithmetic **order of operations** be followed.  For example, '2\\*x^3\\*n' is $2x^{3}n$, not $2x^{3n}$. As is always suggested, parentheses are your friends. If, $2x^{3n}$ is what you truly meant, then it would be entered as '2\\*x^(3\\*n)'.\n",
    "\n",
    "It is also **extremely** important that the polynomial is entered by the (universally) accepted convention of the highest power of $x$ be first and the subsequent powers given in descending order. (It is not necessary to list any terms which have zero as the coefficient.)\n",
    "\n",
    "For example, then, the function $f(x) = 4x^{5} - x^{4} + 20x^{3} - 5x^{2} + 16x - 4$ would be entered as '4\\*x^5 - x^4 + 20\\*x^3 - 5\\*x^2 + 16\\*x - 4'\n",
    "\n",
    "This section, therefore, is where you will enter the function of interest by replacing what is given below for `theFunc`"
   ]
  },
  {
   "cell_type": "code",
   "execution_count": 20,
   "metadata": {},
   "outputs": [],
   "source": [
    "    theFunc = '4*x^5 - x^4 + 20*x^3 - 5*x^2 + 16*x - 4'\n",
    "    # store original function \n",
    "    theRealFunc = theFunc"
   ]
  },
  {
   "cell_type": "markdown",
   "metadata": {},
   "source": [
    "#### <center> Function Plot Section </center>\n",
    "\n",
    "Though not necessary, it is often a good practice to get a rough idea of the characteristics of the function by making a plot (graph) of the function. This section will do just that. \n",
    "\n",
    "The **default** range of the inputs is $[-5,5]$. You can change these if needed and/or desired by changing the values for `xMin` and `xMax` in the following block of code then just *rerun* this particular cell.\n"
   ]
  },
  {
   "cell_type": "code",
   "execution_count": 21,
   "metadata": {},
   "outputs": [
    {
     "data": {
      "text/plain": [
       "()"
      ]
     },
     "execution_count": 21,
     "metadata": {},
     "output_type": "execute_result"
    },
    {
     "data": {
      "image/png": "[encoded data removed]",
      "text/plain": [
       "<Figure size 432x288 with 1 Axes>"
      ]
     },
     "metadata": {},
     "output_type": "display_data"
    }
   ],
   "source": [
    "    xMin = -2\n",
    "    xMax = 3.5\n",
    "    theInc = 0.1\n",
    "    xValues = np.arange(xMin, xMax, theInc).tolist()\n",
    "    yValues = []\n",
    "    \n",
    "    f = sympify(theRealFunc)\n",
    "    for x in xValues:\n",
    "        fValue = evalFunction(f,x)\n",
    "        yValues.append(fValue)\n",
    "    makePlot(xValues, yValues, theRealFunc)"
   ]
  },
  {
   "cell_type": "markdown",
   "metadata": {},
   "source": [
    "#### <center> Function Information Section </center>\n",
    "\n",
    "This section will report out on the main characteristics (properties) of the function of interest. These are:\n",
    "\n",
    "* **Polynomial Degree:** The degree of the polynomial\n",
    "* **Number of Roots:** The number of roots there are as guaranteed by the *Fundamental Theorem of Algebra*\n",
    "* **Coefficient List:** The coefficients of the degree $n$ polynomial, inclusive of any zero coefficients"
   ]
  },
  {
   "cell_type": "code",
   "execution_count": 22,
   "metadata": {},
   "outputs": [
    {
     "name": "stdout",
     "output_type": "stream",
     "text": [
      "\n",
      "Processing Function: 4*x^5 - x^4 + 20*x^3 - 5*x^2 + 16*x - 4\n",
      "\n",
      "\tFunction Information\n",
      "\t\tPolynomial degree      : 5\n",
      "\t\tNumber of roots to find: 5\n",
      "\t\tCoefficient list       : [4, -1, 20, -5, 16, -4]\n",
      "\n"
     ]
    }
   ],
   "source": [
    "    print('\\nProcessing Function:',theFunc)\n",
    "    theDegree = getPolyDegree(theFunc)\n",
    "    (allCoeffs,coeffDict) = getAllCoeffs(theFunc)\n",
    "    coeffList = formCoeffList(coeffDict,theDegree)\n",
    "    printProcessFuncInfo(theDegree,coeffList)\n",
    "    print()"
   ]
  },
  {
   "cell_type": "markdown",
   "metadata": {},
   "source": [
    "#### <center> Zero Constant Handling Section </center>\n",
    "\n",
    "It is possible that the function of interest would have a zero as the constant coefficient, which **is** perfectly valid. The function $f(x) = 3x^{7} - 4x^{5} + 3x^{2}$ would be an example of where the constant coefficient is zero. This section will identify this to be case and update the software accordingly. Basically, if the constant coefficient is zero, at least one $x$ can be factored out of the function and will mean that a zero (or repeated zeros) need be included in the list of roots."
   ]
  },
  {
   "cell_type": "code",
   "execution_count": 23,
   "metadata": {},
   "outputs": [
    {
     "name": "stdout",
     "output_type": "stream",
     "text": [
      "The constant coefficient is 4\n"
     ]
    }
   ],
   "source": [
    "    useReducedFunc = False\n",
    "    theConstCoeff = getConstCoeff(theFunc)\n",
    "    numRemoved = 0\n",
    "    if (theConstCoeff == 0):\n",
    "        (numRemoved,reducedFunc) = zeroConstHandling(coeffList)\n",
    "        rDegree = getPolyDegree(reducedFunc)\n",
    "        (rCoeffs,rCoeffDict) = getAllCoeffs(reducedFunc)\n",
    "        rCoeffList = formCoeffList(rCoeffDict,rDegree)\n",
    "        theFunc = reducedFunc\n",
    "        useReducedFunc = True\n",
    "        printZeroConstInfo(numRemoved,reducedFunc,rDegree,rCoeffList)\n",
    "        print()\n",
    "    else:\n",
    "        print('The constant coefficient is',theConstCoeff)"
   ]
  },
  {
   "cell_type": "markdown",
   "metadata": {},
   "source": [
    "#### <center> Identify Possible Rational Roots Section </center>\n",
    "\n",
    "This section will identify the **possible** rational roots by determining the factors of the constant and leading coefficients and via the *Rational Root Theorem* create the ratio of the plus/minus factors. It is quite possible that duplicate possible rational roots will result and, if so, this section will remove any duplicates. "
   ]
  },
  {
   "cell_type": "code",
   "execution_count": 24,
   "metadata": {},
   "outputs": [
    {
     "name": "stdout",
     "output_type": "stream",
     "text": [
      "\n",
      "\tIdentify Possible Rational Roots\n",
      "\t\tFactors of constant coefficient: 4\n",
      "\t\t\t [1, 2, 4]\n",
      "\t\tFactors of leading coefficient: 4\n",
      "\t\t\t [1, 2, 4]\n",
      "\t\tPossible rational roots\n",
      "\t\t\t [1, -1, 1/2, -1/2, 1/4, -1/4, 2, -2, 1, -1, 1/2, -1/2, 4, -4, 2, -2, 1, -1]\n",
      "\t\tPossible rational roots (duplicates removed)\n",
      "\t\t\t [1, 2, -1/2, 4, 1/2, 1/4, -2, -1/4, -4, -1]\n",
      "\n"
     ]
    }
   ],
   "source": [
    "    print('\\n\\tIdentify Possible Rational Roots')\n",
    "    if useReducedFunc:\n",
    "        print('\\t\\tUsing factored function',theFunc)\n",
    "    theConstCoeff   = getConstCoeff(theFunc)\n",
    "    constFactors    = findFactors(theConstCoeff)\n",
    "    theLeadingCoeff = getLeadingCoeff(theFunc)\n",
    "    leadingFactors  = findFactors(theLeadingCoeff)\n",
    "    (posRatlRoots,listOfPosRatlRoots) = getPosRatlRoots(theFunc)\n",
    "    printRatlRootInfo(theConstCoeff,constFactors,\n",
    "                      theLeadingCoeff,leadingFactors,\n",
    "                      posRatlRoots,listOfPosRatlRoots)\n",
    "    print()"
   ]
  },
  {
   "cell_type": "markdown",
   "metadata": {},
   "source": [
    "#### <center> Rational Root Finding Via Function Evaluation Section </center>\n",
    "\n",
    "Once the **possible** rational roots have been identified, this section will determine which, **if any**, of those possbile rational roots are indeed roots. This is done via the evaluation of the function at a possible root and see if it satisfies $f(x) = 0$. This method of root determination has (several) disadvantages. It will be left as an exercise to the reader to specifically identify these disadvantages.\n",
    "\n",
    "**Any repeated zero roots will be added to the list of indentified roots!!**"
   ]
  },
  {
   "cell_type": "code",
   "execution_count": 25,
   "metadata": {},
   "outputs": [
    {
     "name": "stdout",
     "output_type": "stream",
     "text": [
      "\n",
      "\tRational Root Finding Via Function Evaluation\n",
      "\t\tFunction: 4*x^5 - x^4 + 20*x^3 - 5*x^2 + 16*x - 4\n",
      "\t\tRational roots found via function evaluation:\n",
      "\t\t\t [1/4]\n",
      "\t\tThere are still 4  roots to find\n"
     ]
    }
   ],
   "source": [
    "    print('\\n\\tRational Root Finding Via Function Evaluation')\n",
    "    print('\\t\\tFunction:',theRealFunc)\n",
    "    if useReducedFunc:\n",
    "        print('\\t\\tThere was a constant coefficient of zero')\n",
    "        print('\\t\\tWill proceed using the reduced (factored) function')\n",
    "        print('\\t\\t\\t',theFunc)\n",
    "    theRoots = findRootsViaFuncEval(theFunc,listOfPosRatlRoots)\n",
    "    if len(theRoots) == 0:\n",
    "        print('\\t\\tNo rational roots found via function evaluation')\n",
    "    else:\n",
    "        print('\\t\\tRational roots found via function evaluation:')\n",
    "        print('\\t\\t\\t',theRoots)\n",
    "    if useReducedFunc:\n",
    "        numRootsToFind = getPolyDegree(theFunc)\n",
    "    else:\n",
    "        numRootsToFind = theDegree\n",
    "    rDegree = getPolyDegree(theFunc)\n",
    "    if useReducedFunc:\n",
    "        print('\\t\\tNow add the zero roots')\n",
    "        for i in range(0,numRemoved):\n",
    "            theRoots.append(0)\n",
    "        print('\\t\\t\\t',theRoots)\n",
    "    if len(theRoots) != theDegree:\n",
    "         print('\\t\\tThere are still',theDegree - len(theRoots),' roots to find')\n",
    "    else:\n",
    "         print('\\t\\tAll roots were found for',theRealFunc)\n",
    "         print('\\t\\t\\t',theRoots)"
   ]
  },
  {
   "cell_type": "markdown",
   "metadata": {},
   "source": [
    "#### <center> Rational Root Finding Via Synthetic Division Section </center>\n",
    "\n",
    "This section will implement the *factor theorem* to determine if a **possible** rational root is indeed a root (that is, satifies $f(x) = 0$. The determination method used here is via the implementation of synthetic division. \n",
    "\n",
    "If the original function or the the lesser degree function resulting from the finding of a rational root is a quadratic, the *quadratic formula* will be invoked to yield the non-rational (inclusive of complex) roots.\n",
    "\n",
    "Any repeated zero roots will be added to the list of indentified roots."
   ]
  },
  {
   "cell_type": "code",
   "execution_count": 26,
   "metadata": {},
   "outputs": [
    {
     "name": "stdout",
     "output_type": "stream",
     "text": [
      "\n",
      "\tRoot Finding Via Synthetic Division\n",
      "\t\tFunction: 4*x^5 - x^4 + 20*x^3 - 5*x^2 + 16*x - 4\n",
      "\t\tRational roots found via synthetic division:\n",
      "\t\t\t [1/4]\n",
      "\t\tThere are still 4  roots to find\n"
     ]
    }
   ],
   "source": [
    "    print('\\n\\tRoot Finding Via Synthetic Division')\n",
    "    print('\\t\\tFunction:',theRealFunc)\n",
    "    if useReducedFunc:\n",
    "        print('\\t\\tThere was a constant coefficient of zero')\n",
    "        print('\\t\\tWill proceed using the reduced (factored) function')\n",
    "        print('\\t\\t\\t',theFunc)\n",
    "    (theRoots,returnCoeffList) = findRootsViaSD(theFunc,listOfPosRatlRoots)\n",
    "    if len(theRoots) == 0:\n",
    "        print('\\t\\tNo rational roots found via synthetic division')\n",
    "    else:\n",
    "        print('\\t\\tRational roots found via synthetic division:')\n",
    "        print('\\t\\t\\t',theRoots)\n",
    "    if useReducedFunc:\n",
    "        numRootsToFind = getPolyDegree(theFunc)\n",
    "    else:\n",
    "        numRootsToFind = theDegree\n",
    "    if useReducedFunc:\n",
    "        print('\\t\\tNow add the zero roots')\n",
    "        for i in range(0,numRemoved):\n",
    "            theRoots.append(0)\n",
    "        print('\\t\\t\\t',theRoots)\n",
    "    if (theDegree - len(theRoots)) == 2:\n",
    "        print('\\t\\tThere are still two roots to find; will find the roots via the quadratic formula')\n",
    "        fromQuadFormula = solveQuadratic(returnCoeffList)\n",
    "        theRoots.append(fromQuadFormula[0])\n",
    "        theRoots.append(fromQuadFormula[1])\n",
    "        print('\\t\\t\\t',fromQuadFormula)\n",
    "        print('\\t\\tThe roots found so far')\n",
    "        print('\\t\\t\\t',theRoots)\n",
    "\n",
    "    if len(theRoots) != theDegree:\n",
    "         print('\\t\\tThere are still',theDegree - len(theRoots),' roots to find')\n",
    "    if len(theRoots) == theDegree:\n",
    "         print('\\t\\tAll roots were found for',theRealFunc)\n",
    "         print('\\t\\t\\t',theRoots)"
   ]
  },
  {
   "cell_type": "markdown",
   "metadata": {},
   "source": [
    "#### <center> Summary / Conclusion </center>\n",
    "\n",
    "This notebook provided for the exploration of root finding, rational roots in particular, for single variable polynomials with integer coefficients."
   ]
  },
  {
   "cell_type": "markdown",
   "metadata": {},
   "source": [
    "#### <center> Theorems </center>\n",
    "\n",
    "The following are the **key** theorems we discussed and will be using in our quest to solve $f(x) = 0$ (that is finding the roots, or zeros, where a root is the value of $x$ such that the function when evaluated at $x$ will cause the function to be zero). You might sometimes see these theorems with slightly different names and/or different descriptions, depending on the needed formality and context. Hence, what follows are the fundamental nature of each theorem, perhaps slightly paraphrased, and how will be using them in this class. Most, but **not** all of these theorems pertain to single-variable polynomials with real and/or integer coefficients (which is where our attention will be initially focused). Recall a polynomial is:\n",
    "\n",
    "$$\n",
    "f(x) = a_{n}x^{n} + a_{n-1}x^{n-1} + a_{n-2}x^{n-2} + \\dots + a_{2}x^2 + a_{1}x + a_{0}\n",
    "$$\n",
    "\n",
    "There are other *tools* that can be useful to finding roots and we will mention them in class, but they are not always useful so are not listed here. A key component to our discussion of root finding will also be *numerical analysis* techniques. \n",
    "\n",
    "#### *Remainder Theorem* \n",
    "\n",
    "*Given a polynomial, $f(x)$, with real coefficients, when it is divided by $x - c$, for some $c \\in \\mathbb{C}$, then the remainder, $r$, is the function evaluated at $c$. That is, $f(c) = r$.*\n",
    "\n",
    "<!-- *[top](#top)* -->\n",
    "\n",
    "#### *Factor Theorem*\n",
    "\n",
    "*Given a polynomial, $f(x)$, with real coefficients and some $c \\in \\mathbb{C}$, $f(c) = 0$ $\\iff$ $(x - c)$ is a factor.*\n",
    "\n",
    "Note: $\\iff$ is the symbol for *if and only if*\n",
    "\n",
    "#### *Fundamental Theorem of Algebra*\n",
    "\n",
    "There are a number of ways you will see the Fundamental Theorem of Algebra expressed depending on the level of formality and context. For the purposes of this class (consistent with where we are at mathematically), the definition we will be using is as follows:\n",
    "\n",
    "*Given a polynomial, $f(x)$, with real coefficients and of degree $n$, then there will* **always** *be $n$ roots. The roots may not all be unique (i.e., repeated roots with some multiplicity) and roots may not be real (i.e. can be complex).*\n",
    "\n",
    "#### *Complex Conjugate Theorem*\n",
    "\n",
    "*Given a polynomial, $f(x)$, with real coefficients, if the complex number $a + bi$ is a solution to $f(x) = 0$ (a root), then  its conjugate, $a - bi$ is also a solution (root).*\n",
    "\n",
    "#### *Rational Root Theorem*\n",
    "\n",
    "*Given a polynomial, $f(x)$, with* **integer** *coefficients, then* **if** *a rational root exists, it will be in $p/q$, where $p$ are the plus/minus factors of the constant coefficient and $q$ are the plus/minus coefficients of the leading coefficient.*\n",
    "\n",
    "#### *Intermediate Value Theorem*\n",
    "\n",
    "*For some function, $f$, which is continuous in the interval $[a,b]$, $a < b$, and for some $k$ such that $f(a) < k < f(b)$, then there exists a $c \\in (a,b)$ such that $f(c) = k$. $(a,b,c,k \\in \\mathbb{R})$*\n",
    "\n",
    "#### *Bolzano Theorem*\n",
    "\n",
    "*For some function, $f$, which is continuous in the interval $[a,b]$ such that $f(a) < 0 < f(b)$ or $f(a) > 0 > f(b)$, then there exists a $c \\in (a,b)$ such that $f(c) = 0$. $(a,b,c \\in \\mathbb{R})$*"
   ]
  },
  {
   "cell_type": "markdown",
   "metadata": {},
   "source": [
    "#### <center> Take The Challenge </center>\n",
    "\n",
    "Consider trying the following functions. These were just a handful of functions used to verify the software created for this notebook. Try them yourselves, first by hand, then using this notebook. **(Remember to enter the function in the software as described above.)**\n",
    "\n",
    "* $f(x) = -3x^{2} - 4x + 1$\n",
    "* $f(x) = x$\n",
    "* $f(x) = 3x^{2} + 5x - 2$\n",
    "* $f(x) = x^{5} - x^{4} + 3x^{2} - 22$\n",
    "* $f(x) = -x^{4} + 16$\n",
    "* $f(x) = -56x^{3} - 22x + 34$\n",
    "* $f(x) = -56x^{3} - 22x^{2} + x$\n",
    "* $f(x) = -23x^{3} - x$\n",
    "* $f(x) = x^{2}$\n",
    "* $f(x) = -x^{2}$\n",
    "* $f(x) = 88x - 5$\n",
    "* $f(x) = -4x^{2} - 3x$\n",
    "* $f(x) = -36x^{6} - x^{4} + 3x - 22$\n",
    "* $f(x) = -2x^{4} - 4x^{3} + 1$\n",
    "* $f(x) = x^{3} - 2x^{2} - 5x + 6$\n",
    "* $f(x) = x^{3} - x$\n",
    "* $f(x) = x^{2} - 4x + 13$\n",
    "* $f(x) = x^{5} - 4x^{4} + 13x^{3}$\n",
    "* $f(x) = x^{3} - 3x + 2$\n",
    "* $f(x) = x^{4} - 2x^{2} + 1$\n",
    "* $f(x) = x^{4} - 2x^{3} + 2x^{2} - 2x + 1$\n",
    "* $f(x) = x^{2} - 4x + 4$\n",
    "* $f(x) = 6x^{2} - x - 1$\n",
    "* $f(x) = 2x^{3} - x^{2} + 2x - 1$\n",
    "* $f(x) = 4x^{5} - x^{4} + 20x^{3} - 5x^{2} + 16x - 4$\n",
    "* $f(x) = 2x^{3} - 9x^{2} + 30x - 13$\n",
    "* $f(x) = 24x^{3} + 46x^{2} - x - 14$\n",
    "* $f(x) = x^{3} - 5x^{2} + 3x + 6$\n",
    "* $f(x) = 4x^{3} - 3x^{2} - 25x - 6$\n",
    "* $f(x) = x^{5} - 4x^{4} - 7x^{3} + 14x^{2} - 44x + 120$\n",
    "* $f(x) = 3x^{3} - x^{2} - x + 4$\n",
    "* $f(x) = x^{3} - x^{2} + 2x - 2$\n",
    "* $f(x) = 2x^{5} + x^{4} - 2x - 1$\n",
    "* $f(x) = x^{4} + x^{3} - 16x^{2} - 58x - 60$\n",
    "* $f(x) = 2x^{5} + x^{4} - 2x - 1$\n",
    "* $f(x) = x^{4} - 7x^{3} + 17x^{2} - 17x + 6$"
   ]
  },
  {
   "cell_type": "markdown",
   "metadata": {},
   "source": [
    "#### <center> Libraries </center>\n",
    "\n",
    "Several of these libraries were written by me to better organize the presentation in this notebook and for use in other applications. In particular, these libraries are:\n",
    "\n",
    "* `parseLib`: Contains the routines to parse the function of interest entered as ASCII text into its usable components (this was the most time consuming part)\n",
    "* `plotLib`: Constains the plot routine(s)\n",
    "* `polynomialLib`: Contains the routines specific to polynomial manipulation, evaluation, etc.\n",
    "* `rationalRootLib`: Contains the routines to identify possible rational roots and the determination if any are indeed roots\n",
    "* `functionMathRoutines`: Contains the routines independent of the specific application of rational root determination (examples are function evaluation and implementation of the quadratic formula)\n",
    "* `exploreRationalLib`: Contains the routines to report the findings of the exploration of rational roots within each of the above sections (that is the specific output of relevant information)"
   ]
  },
  {
   "cell_type": "markdown",
   "metadata": {},
   "source": [
    "#### <center> Future Enhancements </center>\n",
    "\n",
    "It is recognized that there might be (actually, there are) areas for improvement, things to be made clearer, desired new functionality, etc. What follows is a list of some of these self-identified areas of enhancement / improvement that I'm contemplating should I ever get some **spare** time (ha). Being quite humble, I fully realize that what follows is certainly a non-exhaustive list (was initially construed as a placeholder for reminders to myself but figured I'd put it out there). Feel free to add to the list and make me aware.\n",
    "\n",
    "* Reorganize the code to be fully within the spirit of the `python jupyter notebook`concept\n",
    "* Add the ability to enter a root (nclusive of a complex root) and then proceed from there\n",
    "* Clarification of anything that might need further explanation\n",
    "* Better presentation of the output"
   ]
  },
  {
   "cell_type": "code",
   "execution_count": null,
   "metadata": {},
   "outputs": [],
   "source": []
  }
 ],
 "metadata": {
  "kernelspec": {
   "display_name": "Python 3",
   "language": "python",
   "name": "python3"
  },
  "language_info": {
   "codemirror_mode": {
    "name": "ipython",
    "version": 3
   },
   "file_extension": ".py",
   "mimetype": "text/x-python",
   "name": "python",
   "nbconvert_exporter": "python",
   "pygments_lexer": "ipython3",
   "version": "3.7.3"
  }
 },
 "nbformat": 4,
 "nbformat_minor": 2
}
